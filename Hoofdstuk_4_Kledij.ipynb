{
 "cells": [
  {
   "cell_type": "code",
   "execution_count": 146,
   "metadata": {},
   "outputs": [],
   "source": [
    "# Importing the necessary packages\n",
    "import numpy as np                                  # \"Scientific computing\"\n",
    "\n",
    "\n",
    "import pandas as pd                                 # Data Frame\n",
    "\n",
    "import matplotlib.pyplot as plt                     # Basic visualisation\n",
    "import seaborn as sns                               # Advanced data visualisation\n",
    "\n",
    "from numpy import mean\n",
    "from numpy import std\n",
    "from numpy import absolute\n",
    "from pandas import read_csv\n",
    "from sklearn.model_selection import cross_val_score\n",
    "from sklearn.model_selection import KFold\n",
    "from sklearn.compose import ColumnTransformer\n",
    "from sklearn.pipeline import Pipeline\n",
    "from sklearn.preprocessing import OneHotEncoder\n",
    "from sklearn.preprocessing import MinMaxScaler"
   ]
  },
  {
   "cell_type": "code",
   "execution_count": 147,
   "metadata": {},
   "outputs": [
    {
     "data": {
      "text/html": [
       "<div>\n",
       "<style scoped>\n",
       "    .dataframe tbody tr th:only-of-type {\n",
       "        vertical-align: middle;\n",
       "    }\n",
       "\n",
       "    .dataframe tbody tr th {\n",
       "        vertical-align: top;\n",
       "    }\n",
       "\n",
       "    .dataframe thead th {\n",
       "        text-align: right;\n",
       "    }\n",
       "</style>\n",
       "<table border=\"1\" class=\"dataframe\">\n",
       "  <thead>\n",
       "    <tr style=\"text-align: right;\">\n",
       "      <th></th>\n",
       "      <th>weight</th>\n",
       "      <th>age</th>\n",
       "      <th>height</th>\n",
       "      <th>size</th>\n",
       "    </tr>\n",
       "  </thead>\n",
       "  <tbody>\n",
       "    <tr>\n",
       "      <th>0</th>\n",
       "      <td>62</td>\n",
       "      <td>28.0</td>\n",
       "      <td>172.72</td>\n",
       "      <td>XL</td>\n",
       "    </tr>\n",
       "    <tr>\n",
       "      <th>1</th>\n",
       "      <td>59</td>\n",
       "      <td>36.0</td>\n",
       "      <td>167.64</td>\n",
       "      <td>L</td>\n",
       "    </tr>\n",
       "    <tr>\n",
       "      <th>2</th>\n",
       "      <td>61</td>\n",
       "      <td>34.0</td>\n",
       "      <td>165.10</td>\n",
       "      <td>M</td>\n",
       "    </tr>\n",
       "    <tr>\n",
       "      <th>3</th>\n",
       "      <td>65</td>\n",
       "      <td>27.0</td>\n",
       "      <td>175.26</td>\n",
       "      <td>L</td>\n",
       "    </tr>\n",
       "    <tr>\n",
       "      <th>4</th>\n",
       "      <td>62</td>\n",
       "      <td>45.0</td>\n",
       "      <td>172.72</td>\n",
       "      <td>M</td>\n",
       "    </tr>\n",
       "  </tbody>\n",
       "</table>\n",
       "</div>"
      ],
      "text/plain": [
       "   weight   age  height size\n",
       "0      62  28.0  172.72   XL\n",
       "1      59  36.0  167.64    L\n",
       "2      61  34.0  165.10    M\n",
       "3      65  27.0  175.26    L\n",
       "4      62  45.0  172.72    M"
      ]
     },
     "execution_count": 147,
     "metadata": {},
     "output_type": "execute_result"
    }
   ],
   "source": [
    "# Read the dataset\n",
    "df = pd.read_csv('https://raw.githubusercontent.com/jdecorte/machinelearning/main/datasets//clothes_size_prediction.csv')\n",
    "df.head()"
   ]
  },
  {
   "cell_type": "markdown",
   "metadata": {},
   "source": [
    "## Data Analyse & Cleaning"
   ]
  },
  {
   "cell_type": "code",
   "execution_count": 148,
   "metadata": {},
   "outputs": [
    {
     "name": "stdout",
     "output_type": "stream",
     "text": [
      "<class 'pandas.core.frame.DataFrame'>\n",
      "RangeIndex: 119734 entries, 0 to 119733\n",
      "Data columns (total 4 columns):\n",
      " #   Column  Non-Null Count   Dtype  \n",
      "---  ------  --------------   -----  \n",
      " 0   weight  119734 non-null  int64  \n",
      " 1   age     119477 non-null  float64\n",
      " 2   height  119404 non-null  float64\n",
      " 3   size    119734 non-null  object \n",
      "dtypes: float64(2), int64(1), object(1)\n",
      "memory usage: 3.7+ MB\n"
     ]
    }
   ],
   "source": [
    "df.info()"
   ]
  },
  {
   "cell_type": "code",
   "execution_count": 149,
   "metadata": {},
   "outputs": [],
   "source": [
    "df = df.dropna()"
   ]
  },
  {
   "cell_type": "markdown",
   "metadata": {},
   "source": [
    "We merken op dat er te weinig velden zijn voor XXL. Deze gaan we droppen."
   ]
  },
  {
   "cell_type": "code",
   "execution_count": 150,
   "metadata": {},
   "outputs": [
    {
     "data": {
      "text/plain": [
       "M       29575\n",
       "S       21829\n",
       "XXXL    21259\n",
       "XL      19033\n",
       "L       17481\n",
       "XXS      9907\n",
       "XXL        69\n",
       "Name: size, dtype: int64"
      ]
     },
     "execution_count": 150,
     "metadata": {},
     "output_type": "execute_result"
    }
   ],
   "source": [
    "df['size'].value_counts()"
   ]
  },
  {
   "cell_type": "code",
   "execution_count": 151,
   "metadata": {},
   "outputs": [
    {
     "data": {
      "text/plain": [
       "M       29575\n",
       "S       21829\n",
       "XXXL    21259\n",
       "XL      19033\n",
       "L       17481\n",
       "XXS      9907\n",
       "Name: size, dtype: int64"
      ]
     },
     "execution_count": 151,
     "metadata": {},
     "output_type": "execute_result"
    }
   ],
   "source": [
    "df = df[df['size'] != 'XXL']\n",
    "df['size'].value_counts()"
   ]
  },
  {
   "cell_type": "markdown",
   "metadata": {},
   "source": [
    "We willen stratified sampling toepassen op de leeftijdsvariabele. We willen de leeftijd van iedere consument aanpassen naar het dichtste vijfvoud. Wel moeten we rekening houden met de datatypes van de variabelen."
   ]
  },
  {
   "cell_type": "code",
   "execution_count": 152,
   "metadata": {},
   "outputs": [],
   "source": [
    "df['height'] = df['height'].astype('int')"
   ]
  },
  {
   "cell_type": "code",
   "execution_count": 153,
   "metadata": {},
   "outputs": [],
   "source": [
    "df['age'] = round(df['age'] / 5)\n",
    "df['age'] = df['age'].astype('int')"
   ]
  },
  {
   "cell_type": "markdown",
   "metadata": {},
   "source": [
    "We gaan alle duplicate rijen uit de dataset halen. Dit doen we met drop_duplicates, maar bij het droppen van een duplicate moeten we meegeven welke waarde er moet worden behouden.\n",
    "1. We sorteren de waarden eerst op basis van alle features: weight, age, height en size.\n",
    "2. We droppen alle duplicates en we behouden de eerste. Andere opties zijn 'last' en False. Bij False worden alle duplicaten verwijderd, dus niets wordt behouden."
   ]
  },
  {
   "cell_type": "code",
   "execution_count": 154,
   "metadata": {},
   "outputs": [],
   "source": [
    "df = df.sort_values(by = ['weight','age','height','size'])\n",
    "df = df.drop_duplicates(keep='first')"
   ]
  },
  {
   "cell_type": "markdown",
   "metadata": {},
   "source": [
    "We willen hoeveel records er zijn met dezelfde waarden voor gewicht, age en height. Echter moeten deze waarden een verschillende size hebben. Hier werken we met een groupby.\n",
    "\n",
    "De waarden voor Size zullen nu veranderen naar numerieke waarden."
   ]
  },
  {
   "cell_type": "code",
   "execution_count": 155,
   "metadata": {},
   "outputs": [],
   "source": [
    "temp = df.groupby(['weight','age','height']).agg('nunique').reset_index()"
   ]
  },
  {
   "cell_type": "code",
   "execution_count": 156,
   "metadata": {},
   "outputs": [],
   "source": [
    "df = df.drop_duplicates(subset=['weight','age','height'],keep='first')"
   ]
  },
  {
   "cell_type": "markdown",
   "metadata": {},
   "source": [
    "We willen weten of we met een skewed dataset zitten. Dit wilt zeggen dat de dataset niet uit gelijke frequenties bestaat. \n",
    "* Een dataset met drie klassen die elke 50 waarden hebben is niet skewed.\n",
    "* Een dataset met drie klassen waarvan één klasse 150 waarden heeft en de andere 300 en de andere maar 20 is skewed. "
   ]
  },
  {
   "cell_type": "code",
   "execution_count": 157,
   "metadata": {},
   "outputs": [
    {
     "data": {
      "text/plain": [
       "XXXL    1747\n",
       "L       1695\n",
       "M        672\n",
       "XL       517\n",
       "S        377\n",
       "XXS      141\n",
       "Name: size, dtype: int64"
      ]
     },
     "execution_count": 157,
     "metadata": {},
     "output_type": "execute_result"
    }
   ],
   "source": [
    "df['size'].value_counts()"
   ]
  },
  {
   "cell_type": "markdown",
   "metadata": {},
   "source": [
    "We merken op dat het aantal XXXL en L maten overrepresentatief zijn. We gaan ad-random 1/3de van elk uit de dataset halen. We moeten rekening houden dat dit werkelijk ook ad-random is.\n",
    "\n",
    "1. Een techniek om dit te doen is op basis van random. We gaan een willekeurig getal aan iedere rij toekennen. We hebben op oog om alle rijen met waarde 0 te gaan verwijderen.\n",
    "2. We verwijderen alle rijen die de waarde 0 hebben én ofwel XXXL/L zijn.\n",
    "3. De variabele random hebben we niet meer nodig, dus die gaan we weer verwijderen."
   ]
  },
  {
   "cell_type": "code",
   "execution_count": 158,
   "metadata": {},
   "outputs": [
    {
     "data": {
      "text/html": [
       "<div>\n",
       "<style scoped>\n",
       "    .dataframe tbody tr th:only-of-type {\n",
       "        vertical-align: middle;\n",
       "    }\n",
       "\n",
       "    .dataframe tbody tr th {\n",
       "        vertical-align: top;\n",
       "    }\n",
       "\n",
       "    .dataframe thead th {\n",
       "        text-align: right;\n",
       "    }\n",
       "</style>\n",
       "<table border=\"1\" class=\"dataframe\">\n",
       "  <thead>\n",
       "    <tr style=\"text-align: right;\">\n",
       "      <th></th>\n",
       "      <th>weight</th>\n",
       "      <th>age</th>\n",
       "      <th>height</th>\n",
       "      <th>size</th>\n",
       "      <th>random</th>\n",
       "    </tr>\n",
       "  </thead>\n",
       "  <tbody>\n",
       "    <tr>\n",
       "      <th>19379</th>\n",
       "      <td>22</td>\n",
       "      <td>6</td>\n",
       "      <td>167</td>\n",
       "      <td>L</td>\n",
       "      <td>0</td>\n",
       "    </tr>\n",
       "    <tr>\n",
       "      <th>9986</th>\n",
       "      <td>22</td>\n",
       "      <td>9</td>\n",
       "      <td>152</td>\n",
       "      <td>XXXL</td>\n",
       "      <td>2</td>\n",
       "    </tr>\n",
       "    <tr>\n",
       "      <th>69879</th>\n",
       "      <td>26</td>\n",
       "      <td>9</td>\n",
       "      <td>172</td>\n",
       "      <td>XXXL</td>\n",
       "      <td>2</td>\n",
       "    </tr>\n",
       "    <tr>\n",
       "      <th>11986</th>\n",
       "      <td>31</td>\n",
       "      <td>7</td>\n",
       "      <td>175</td>\n",
       "      <td>XXXL</td>\n",
       "      <td>1</td>\n",
       "    </tr>\n",
       "    <tr>\n",
       "      <th>40013</th>\n",
       "      <td>35</td>\n",
       "      <td>4</td>\n",
       "      <td>182</td>\n",
       "      <td>XXXL</td>\n",
       "      <td>2</td>\n",
       "    </tr>\n",
       "    <tr>\n",
       "      <th>81610</th>\n",
       "      <td>36</td>\n",
       "      <td>4</td>\n",
       "      <td>157</td>\n",
       "      <td>XXS</td>\n",
       "      <td>0</td>\n",
       "    </tr>\n",
       "    <tr>\n",
       "      <th>88001</th>\n",
       "      <td>38</td>\n",
       "      <td>4</td>\n",
       "      <td>147</td>\n",
       "      <td>XXS</td>\n",
       "      <td>0</td>\n",
       "    </tr>\n",
       "    <tr>\n",
       "      <th>79608</th>\n",
       "      <td>38</td>\n",
       "      <td>6</td>\n",
       "      <td>152</td>\n",
       "      <td>XXS</td>\n",
       "      <td>1</td>\n",
       "    </tr>\n",
       "    <tr>\n",
       "      <th>105639</th>\n",
       "      <td>39</td>\n",
       "      <td>5</td>\n",
       "      <td>160</td>\n",
       "      <td>XXS</td>\n",
       "      <td>1</td>\n",
       "    </tr>\n",
       "    <tr>\n",
       "      <th>104382</th>\n",
       "      <td>39</td>\n",
       "      <td>7</td>\n",
       "      <td>160</td>\n",
       "      <td>S</td>\n",
       "      <td>2</td>\n",
       "    </tr>\n",
       "    <tr>\n",
       "      <th>88633</th>\n",
       "      <td>39</td>\n",
       "      <td>11</td>\n",
       "      <td>154</td>\n",
       "      <td>XXS</td>\n",
       "      <td>0</td>\n",
       "    </tr>\n",
       "    <tr>\n",
       "      <th>10370</th>\n",
       "      <td>40</td>\n",
       "      <td>4</td>\n",
       "      <td>147</td>\n",
       "      <td>S</td>\n",
       "      <td>1</td>\n",
       "    </tr>\n",
       "    <tr>\n",
       "      <th>924</th>\n",
       "      <td>40</td>\n",
       "      <td>4</td>\n",
       "      <td>160</td>\n",
       "      <td>XXS</td>\n",
       "      <td>0</td>\n",
       "    </tr>\n",
       "    <tr>\n",
       "      <th>64560</th>\n",
       "      <td>40</td>\n",
       "      <td>5</td>\n",
       "      <td>152</td>\n",
       "      <td>M</td>\n",
       "      <td>0</td>\n",
       "    </tr>\n",
       "    <tr>\n",
       "      <th>68639</th>\n",
       "      <td>40</td>\n",
       "      <td>5</td>\n",
       "      <td>157</td>\n",
       "      <td>XXS</td>\n",
       "      <td>2</td>\n",
       "    </tr>\n",
       "    <tr>\n",
       "      <th>35380</th>\n",
       "      <td>40</td>\n",
       "      <td>5</td>\n",
       "      <td>160</td>\n",
       "      <td>XXS</td>\n",
       "      <td>0</td>\n",
       "    </tr>\n",
       "    <tr>\n",
       "      <th>31945</th>\n",
       "      <td>40</td>\n",
       "      <td>5</td>\n",
       "      <td>165</td>\n",
       "      <td>S</td>\n",
       "      <td>2</td>\n",
       "    </tr>\n",
       "    <tr>\n",
       "      <th>10423</th>\n",
       "      <td>40</td>\n",
       "      <td>6</td>\n",
       "      <td>142</td>\n",
       "      <td>S</td>\n",
       "      <td>2</td>\n",
       "    </tr>\n",
       "    <tr>\n",
       "      <th>94171</th>\n",
       "      <td>40</td>\n",
       "      <td>6</td>\n",
       "      <td>149</td>\n",
       "      <td>S</td>\n",
       "      <td>1</td>\n",
       "    </tr>\n",
       "    <tr>\n",
       "      <th>30201</th>\n",
       "      <td>40</td>\n",
       "      <td>6</td>\n",
       "      <td>152</td>\n",
       "      <td>XXS</td>\n",
       "      <td>2</td>\n",
       "    </tr>\n",
       "  </tbody>\n",
       "</table>\n",
       "</div>"
      ],
      "text/plain": [
       "        weight  age  height  size  random\n",
       "19379       22    6     167     L       0\n",
       "9986        22    9     152  XXXL       2\n",
       "69879       26    9     172  XXXL       2\n",
       "11986       31    7     175  XXXL       1\n",
       "40013       35    4     182  XXXL       2\n",
       "81610       36    4     157   XXS       0\n",
       "88001       38    4     147   XXS       0\n",
       "79608       38    6     152   XXS       1\n",
       "105639      39    5     160   XXS       1\n",
       "104382      39    7     160     S       2\n",
       "88633       39   11     154   XXS       0\n",
       "10370       40    4     147     S       1\n",
       "924         40    4     160   XXS       0\n",
       "64560       40    5     152     M       0\n",
       "68639       40    5     157   XXS       2\n",
       "35380       40    5     160   XXS       0\n",
       "31945       40    5     165     S       2\n",
       "10423       40    6     142     S       2\n",
       "94171       40    6     149     S       1\n",
       "30201       40    6     152   XXS       2"
      ]
     },
     "execution_count": 158,
     "metadata": {},
     "output_type": "execute_result"
    }
   ],
   "source": [
    "import random\n",
    "df['random'] = [random.randint(0,2) for k in df.index]\n",
    "df.head(20)"
   ]
  },
  {
   "cell_type": "code",
   "execution_count": 159,
   "metadata": {},
   "outputs": [],
   "source": [
    "filterMoetXXXLzijn = (df['random'] == 0) & (df['size'] == 'XXXL')\n",
    "filterMoetLzijn = (df['random'] == 0) & (df['size'] == 'L')\n",
    "filterMagNietIetsAndersZijn = (df['size'] != 'L') & (df['size'] != 'XXXL')\n",
    "\n",
    "df = df[(filterMoetLzijn | filterMoetXXXLzijn | filterMagNietIetsAndersZijn)]"
   ]
  },
  {
   "cell_type": "code",
   "execution_count": 160,
   "metadata": {},
   "outputs": [],
   "source": [
    "df = df.drop(['random'],axis=1)"
   ]
  },
  {
   "cell_type": "markdown",
   "metadata": {},
   "source": [
    "## Te zoeken waarde gaan veranderen naar een numerieke waarde."
   ]
  },
  {
   "cell_type": "markdown",
   "metadata": {},
   "source": [
    "We kunnen ons model niet compilen met tekstwaarden als onze te zoeken waarde. We moeten waarden zoals 'XXXL' gaan aanpassen naar een numerieke waarde.\n",
    "1. We maken een dictionary aan van alle mogelijke klassen. We koppelen iedere klasse aan een numeriek getal van 0-5."
   ]
  },
  {
   "cell_type": "code",
   "execution_count": 161,
   "metadata": {},
   "outputs": [
    {
     "data": {
      "text/html": [
       "<div>\n",
       "<style scoped>\n",
       "    .dataframe tbody tr th:only-of-type {\n",
       "        vertical-align: middle;\n",
       "    }\n",
       "\n",
       "    .dataframe tbody tr th {\n",
       "        vertical-align: top;\n",
       "    }\n",
       "\n",
       "    .dataframe thead th {\n",
       "        text-align: right;\n",
       "    }\n",
       "</style>\n",
       "<table border=\"1\" class=\"dataframe\">\n",
       "  <thead>\n",
       "    <tr style=\"text-align: right;\">\n",
       "      <th></th>\n",
       "      <th>weight</th>\n",
       "      <th>age</th>\n",
       "      <th>height</th>\n",
       "      <th>size</th>\n",
       "    </tr>\n",
       "  </thead>\n",
       "  <tbody>\n",
       "    <tr>\n",
       "      <th>19379</th>\n",
       "      <td>22</td>\n",
       "      <td>6</td>\n",
       "      <td>167</td>\n",
       "      <td>3</td>\n",
       "    </tr>\n",
       "    <tr>\n",
       "      <th>81610</th>\n",
       "      <td>36</td>\n",
       "      <td>4</td>\n",
       "      <td>157</td>\n",
       "      <td>0</td>\n",
       "    </tr>\n",
       "    <tr>\n",
       "      <th>88001</th>\n",
       "      <td>38</td>\n",
       "      <td>4</td>\n",
       "      <td>147</td>\n",
       "      <td>0</td>\n",
       "    </tr>\n",
       "    <tr>\n",
       "      <th>79608</th>\n",
       "      <td>38</td>\n",
       "      <td>6</td>\n",
       "      <td>152</td>\n",
       "      <td>0</td>\n",
       "    </tr>\n",
       "    <tr>\n",
       "      <th>105639</th>\n",
       "      <td>39</td>\n",
       "      <td>5</td>\n",
       "      <td>160</td>\n",
       "      <td>0</td>\n",
       "    </tr>\n",
       "  </tbody>\n",
       "</table>\n",
       "</div>"
      ],
      "text/plain": [
       "        weight  age  height  size\n",
       "19379       22    6     167     3\n",
       "81610       36    4     157     0\n",
       "88001       38    4     147     0\n",
       "79608       38    6     152     0\n",
       "105639      39    5     160     0"
      ]
     },
     "execution_count": 161,
     "metadata": {},
     "output_type": "execute_result"
    }
   ],
   "source": [
    "mapdict = {'XXS':0,'S':1, 'M': 2, 'L': 3,'XL':4,'XXXL': 5}\n",
    "df['size'] = df['size'].map(mapdict)\n",
    "df.head()"
   ]
  },
  {
   "cell_type": "markdown",
   "metadata": {},
   "source": [
    "## Model opbouwen\n",
    "\n",
    "1. We halen de X en y waarden op.\n",
    "2. We splitsen de dataset in een training- en testset."
   ]
  },
  {
   "cell_type": "code",
   "execution_count": 162,
   "metadata": {},
   "outputs": [],
   "source": [
    "X = df.drop(['size'],axis=1)\n",
    "y = df['size']"
   ]
  },
  {
   "cell_type": "code",
   "execution_count": 163,
   "metadata": {},
   "outputs": [],
   "source": [
    "from sklearn.model_selection import train_test_split\n",
    "X_train,X_test,y_train,y_test = train_test_split(X,y,random_state=42)"
   ]
  },
  {
   "cell_type": "markdown",
   "metadata": {},
   "source": [
    "## Feature scaling\n",
    "\n",
    "Bij classifiers en regressiemodellen moeten wij rekening houden met de schaalbaarheid van de waarden. We moeten rekening houden met de vele mogelijkheden van waarden voor bepaalde variabelen. Dit kunnen we oplossen met feature scalers. Hieronder werken we een MinMaxScaler uit binnen een ColumnTransformer.\n",
    "\n",
    "1. We willen achterhalen wat de numerieke kolommen zijn in het dataframe.\n",
    "2. We bouwen de ColumnTransformer op."
   ]
  },
  {
   "cell_type": "code",
   "execution_count": 164,
   "metadata": {},
   "outputs": [],
   "source": [
    "numerical_ix = X.select_dtypes(include=['int32','int64','float64']).columns"
   ]
  },
  {
   "cell_type": "code",
   "execution_count": 165,
   "metadata": {},
   "outputs": [],
   "source": [
    "from sklearn.pipeline import Pipeline\n",
    "from sklearn.preprocessing import StandardScaler\n",
    "numerical_ix = X.select_dtypes(include=['int32','int64','float64']).columns\n",
    "\n",
    "col_transform = ColumnTransformer(transformers=[\n",
    "    ('std_scaler',StandardScaler(), numerical_ix)\n",
    "    ])"
   ]
  },
  {
   "cell_type": "markdown",
   "metadata": {},
   "source": [
    "## Regressie\n",
    "\n",
    "We gaan een lineair model uitwerken voor deze dataset. Dit doen we met gebruik van een Pipeline om alle stappen met elkaar te laten opvolgen.\n",
    "\n",
    "1. We bouwen het Lineaire Regressiemodel op.\n",
    "2. We definiëren de structuur van de Pipeline. Deze is vrij klein, maar het principe geldt dat we eerst de kolommen gaan aanpassen of transformeren. Daarna gaan we het lineaire regressiemodel toepassen.\n",
    "3. We trainen het model en geven er de bijhorende nauwkeurigheidsscores op. Opmerking: Hier krijgen wij drie coëfficienten te zien. Dit duidt aan dat we met drie features zitten.\n",
    "4. We evalueren het model aan de hand van RMSE of MAE."
   ]
  },
  {
   "cell_type": "code",
   "execution_count": 166,
   "metadata": {},
   "outputs": [],
   "source": [
    "from sklearn.linear_model import  LinearRegression\n",
    "lin_reg = LinearRegression()"
   ]
  },
  {
   "cell_type": "code",
   "execution_count": 167,
   "metadata": {},
   "outputs": [],
   "source": [
    "pipeline = Pipeline([\n",
    "    ('prep', col_transform),\n",
    "    ('lin_reg', lin_reg)\n",
    "    ])"
   ]
  },
  {
   "cell_type": "code",
   "execution_count": 168,
   "metadata": {},
   "outputs": [
    {
     "data": {
      "text/plain": [
       "0.8013322164243732"
      ]
     },
     "execution_count": 168,
     "metadata": {},
     "output_type": "execute_result"
    }
   ],
   "source": [
    "pipeline.fit(X_train,y_train)\n",
    "\n",
    "from sklearn.model_selection import cross_val_score\n",
    "-np.mean(cross_val_score(pipeline,X_train,y_train,scoring='neg_mean_squared_error',cv=5))"
   ]
  },
  {
   "cell_type": "code",
   "execution_count": 169,
   "metadata": {},
   "outputs": [
    {
     "name": "stdout",
     "output_type": "stream",
     "text": [
      "MSE: 0.9313608314766058\n",
      "MAE: 0.713234493105422\n"
     ]
    }
   ],
   "source": [
    "y_predict = pipeline.predict(X_test)\n",
    "\n",
    "from sklearn.metrics import mean_squared_error\n",
    "mse = mean_squared_error(y_test,y_predict,squared=False)\n",
    "\n",
    "from sklearn.metrics import mean_absolute_error\n",
    "mae = mean_absolute_error(y_test,y_predict)\n",
    "\n",
    "print(f'MSE: {mse}')\n",
    "print(f'MAE: {mae}')"
   ]
  },
  {
   "cell_type": "markdown",
   "metadata": {},
   "source": [
    "### Regressie: Extra\n",
    "\n",
    "Hier willen we gebruik maken van drie modellen: lineaire regressie, ridge regressie en SGDRegressie.\n",
    "\n",
    "1. We instantiëren de modellen. Bij Ridge en SGD moeten we een random_state meegeven. De drie modellen slaan wij op in een dictionary.\n",
    "2. We doorlopen de dictionary van modellen. Een model in een dictionary is opgeslaan onder een key en een item. Met een for-lus doorlopen we de dictionary. In deze for-lus gaan wij een pipeline aanmaken voor ieder model. Deze gaan we gaan trainen met de X en y van de trainingset. Voor ieder model gaan wij de MAE en de RMSE gaan berekenen."
   ]
  },
  {
   "cell_type": "code",
   "execution_count": 170,
   "metadata": {},
   "outputs": [],
   "source": [
    "from sklearn.linear_model import Ridge, SGDClassifier\n",
    "\n",
    "lin_reg = LinearRegression()\n",
    "ridge_reg = Ridge(random_state=42)\n",
    "sgd_reg = SGDClassifier(random_state=42)\n",
    "\n",
    "all_reg = {\n",
    "  \"lin_reg  \": lin_reg,\n",
    "  \"ridge_reg\": ridge_reg, \n",
    "  \"sgd_reg  \": sgd_reg\n",
    "  }"
   ]
  },
  {
   "cell_type": "code",
   "execution_count": 171,
   "metadata": {},
   "outputs": [
    {
     "name": "stdout",
     "output_type": "stream",
     "text": [
      "lin_reg  \tMAE-cross validation = 0.7999575563127305\tMAE-test set = 0.713234493105422\n",
      "ridge_reg\tMAE-cross validation = 0.7999528634821451\tMAE-test set = 0.7132690209122531\n",
      "sgd_reg  \tMAE-cross validation = 1.6144967682363804\tMAE-test set = 0.9058171745152355\n"
     ]
    }
   ],
   "source": [
    "for key, model in all_reg.items():\n",
    "  pipeline = Pipeline(\n",
    "    [\n",
    "      (\"coltr\", col_transform), \n",
    "      (key, model)\n",
    "      ])\n",
    "      \n",
    "  pipeline.fit(X_train, y_train)\n",
    "  \n",
    "  y_pred = pipeline.predict(X_test)\n",
    "  mae = cross_val_score(pipeline, X_train, y_train, cv=3, scoring=\"neg_mean_squared_error\").mean()\n",
    "  mse = mean_absolute_error(y_test, y_pred)\n",
    "\n",
    "  print(f\"{key}\\tMAE-cross validation = {-mae}\\tMAE-test set = {mse}\")"
   ]
  },
  {
   "cell_type": "markdown",
   "metadata": {},
   "source": [
    "### Regressie: Extra over Polynomiale features\n",
    "\n",
    "We willen kijken wat het effect is van het aantal graden van een veelterm op de dataset. Hiervoor moeten we gebruik maken van polynomiale features.\n",
    "\n",
    "1. Zelfde stap als daarnet. Nu hebben wij enkel een lineaire regressiemodel nodig en een model voor de polynomiale features. Echter kunnen wij deze nu nog niet aanmaken, want voor de verschillende veeltermen zal deze anders zijn.\n",
    "2. We voeren een for-lus uit waarbij we het aantal graden gaan verhogen met één. Nu kunnen we wél een object voor de polynomiale features gaan aanmaken. We geven de teller mee als variabele. \n",
    "2. In de pipeline gaan we drie objecten meegeven: de columntransformer, de polynomiale features en als laatst het lineaire model.\n",
    "2. We fitten de pipeline met de trainingsdata en we bouwen een array van voorspelde waarden op.\n",
    "2. We gebruiken de voorspelde waarden om de MAE en de RMSE te berekenen. De MAE moet je (net zoals daarnet) negatief gaan plaatsen. Anders krijg je een negatieve waarde terug."
   ]
  },
  {
   "cell_type": "code",
   "execution_count": 172,
   "metadata": {},
   "outputs": [],
   "source": [
    "from sklearn.preprocessing import PolynomialFeatures\n",
    "\n",
    "degrees = [i for i in range(1, 10)]\n",
    "lin_reg = LinearRegression()"
   ]
  },
  {
   "cell_type": "code",
   "execution_count": 173,
   "metadata": {},
   "outputs": [
    {
     "name": "stdout",
     "output_type": "stream",
     "text": [
      "degree = 1\tMAE-cross validation = 0.7999575563127305\tMAE-test set = 0.713234493105422\n",
      "degree = 2\tMAE-cross validation = 0.6473935798049153\tMAE-test set = 0.6018611498796045\n",
      "degree = 3\tMAE-cross validation = 0.6355659483750825\tMAE-test set = 0.582572449846652\n",
      "degree = 4\tMAE-cross validation = 0.6448126896290541\tMAE-test set = 0.5787724957738504\n",
      "degree = 5\tMAE-cross validation = 0.9123828485395714\tMAE-test set = 0.5792820319829155\n",
      "degree = 6\tMAE-cross validation = 1.1481750545087166\tMAE-test set = 0.6013705394706593\n",
      "degree = 7\tMAE-cross validation = 8.405355883269664\tMAE-test set = 0.6174287072126694\n",
      "degree = 8\tMAE-cross validation = 71.32981755142033\tMAE-test set = 0.6680444326385157\n",
      "degree = 9\tMAE-cross validation = 63473.059801619944\tMAE-test set = 1.1592321168657151\n"
     ]
    }
   ],
   "source": [
    "for i in degrees:\n",
    "  poly = PolynomialFeatures(degree=i)\n",
    "  pipeline = Pipeline(\n",
    "    [\n",
    "        (\"coltr\", col_transform),\n",
    "        (\"poly\", poly),\n",
    "        (\"lin_reg\", lin_reg)\n",
    "        ])\n",
    "\n",
    "  X_train_poly = pipeline.fit(X_train, y_train)\n",
    "\n",
    "  y_pred = pipeline.predict(X_test)\n",
    "\n",
    "  mae = cross_val_score(pipeline, X_train, y_train, cv=3, scoring=\"neg_mean_squared_error\").mean()\n",
    "  mse = mean_absolute_error(y_test, y_pred)\n",
    "\n",
    "  print(f\"degree = {i}\\tMAE-cross validation = {-mae}\\tMAE-test set = {mse}\")"
   ]
  },
  {
   "cell_type": "markdown",
   "metadata": {},
   "source": [
    "## Classificatie\n",
    "\n",
    "1. Voor de eerste classifier gaan we werken met een softmax classifier. Hiervoor werken we met een logistic regression object, maar met de multi_class op 'multinomiaal'.\n",
    "2. We bouwen de pipeline op met daarin (opnieuw) de columntransformer en het softmax model.\n",
    "3. We trainen de pipeline o.b.v. de trainingsdata.\n",
    "4. We vragen de accuracyscore op door de geteste labels en de voorspelde labels mee te geven. (spoiler: slechte score incoming)\n",
    "5. We bouwen de confusion matrix op én geven die visueel weer."
   ]
  },
  {
   "cell_type": "code",
   "execution_count": 174,
   "metadata": {},
   "outputs": [],
   "source": [
    "from sklearn.linear_model import LogisticRegression\n",
    "from sklearn.metrics import accuracy_score\n",
    "\n",
    "softmax = LogisticRegression(multi_class=\"multinomial\")\n",
    "\n",
    "pipeline = Pipeline(\n",
    "    [\n",
    "        (\"perp\", col_transform), \n",
    "        (\"softmax\", softmax)\n",
    "    ])\n",
    "\n",
    "pipeline.fit(X_train, y_train)\n",
    "y_pred = pipeline.predict(X_test)\n",
    "\n",
    "acc = accuracy_score(y_test, y_pred)"
   ]
  },
  {
   "cell_type": "code",
   "execution_count": 175,
   "metadata": {},
   "outputs": [
    {
     "data": {
      "text/plain": [
       "Text(91.68, 0.5, 'Actual class')"
      ]
     },
     "execution_count": 175,
     "metadata": {},
     "output_type": "execute_result"
    },
    {
     "data": {
      "image/png": "[encoded data removed]",
      "text/plain": [
       "<Figure size 432x288 with 1 Axes>"
      ]
     },
     "metadata": {
      "needs_background": "light"
     },
     "output_type": "display_data"
    }
   ],
   "source": [
    "from sklearn.metrics import confusion_matrix\n",
    "\n",
    "cnf = confusion_matrix(y_test, y_pred)\n",
    "labels = [\"0\",\"1\", \"2\", \"3\", \"4\", \"5\"]\n",
    "cf = sns.heatmap(cnf,square=True, annot=True, fmt='d', cbar=False, xticklabels=labels, yticklabels=labels)\n",
    "cf.set_xlabel('Predicted class')\n",
    "cf.set_ylabel('Actual class')"
   ]
  },
  {
   "cell_type": "code",
   "execution_count": null,
   "metadata": {},
   "outputs": [],
   "source": []
  },
  {
   "cell_type": "code",
   "execution_count": null,
   "metadata": {},
   "outputs": [],
   "source": []
  }
 ],
 "metadata": {
  "kernelspec": {
   "display_name": "Python 3.9.13 64-bit (windows store)",
   "language": "python",
   "name": "python3"
  },
  "language_info": {
   "codemirror_mode": {
    "name": "ipython",
    "version": 3
   },
   "file_extension": ".py",
   "mimetype": "text/x-python",
   "name": "python",
   "nbconvert_exporter": "python",
   "pygments_lexer": "ipython3",
   "version": "3.9.13"
  },
  "orig_nbformat": 4,
  "vscode": {
   "interpreter": {
    "hash": "461b8cd1ed42f26c365b05a87642eedf7a94d4e578d07d12c4b9e9e926e3307d"
   }
  }
 },
 "nbformat": 4,
 "nbformat_minor": 2
}
