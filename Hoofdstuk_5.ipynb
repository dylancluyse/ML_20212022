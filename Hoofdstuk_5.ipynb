{
 "cells": [
  {
   "cell_type": "code",
   "execution_count": 31,
   "metadata": {},
   "outputs": [],
   "source": [
    "# Importing the necessary packages\n",
    "import numpy as np                                  # \"Scientific computing\"\n",
    "import scipy.stats as stats                         # Statistical tests\n",
    "\n",
    "import pandas as pd                                 # Data Frame\n",
    "\n",
    "import matplotlib.pyplot as plt                     # Basic visualisation\n",
    "import seaborn as sns                               # Advanced data visualisation\n",
    "\n",
    "from numpy import mean\n",
    "from numpy import std\n",
    "from numpy import absolute\n",
    "from pandas import read_csv\n",
    "from sklearn.model_selection import cross_val_score\n",
    "from sklearn.model_selection import KFold\n",
    "from sklearn.compose import ColumnTransformer\n",
    "from sklearn.pipeline import Pipeline\n",
    "from sklearn.preprocessing import OneHotEncoder\n",
    "from sklearn.preprocessing import MinMaxScaler"
   ]
  },
  {
   "cell_type": "markdown",
   "metadata": {},
   "source": [
    "We hebben twee datasets. Demographic en Student. Dit zijn twee datasets die dezelfde studenten bevatten, maar enkele andere waarden. Met een inner join kunnen we deze twee dataframes gaan samenvoegen of mergen.\n",
    "1. We voegen de twee dataframes samen.\n",
    "2. We verwijderen alle rijen die nulwaarden bevatten.\n",
    "3. We kunnen niet werken met 'standard' of 'free/reduced'. Deze waarden moeten we omzetten naar numerieke waarden zoals 0 en 1."
   ]
  },
  {
   "cell_type": "code",
   "execution_count": 32,
   "metadata": {},
   "outputs": [],
   "source": [
    "demographic = pd.read_csv('https://raw.githubusercontent.com/jdecorte/machinelearning/main/datasets/demographic.csv')\n",
    "student = pd.read_csv('https://raw.githubusercontent.com/jdecorte/machinelearning/main/datasets/studentscore.csv')\n",
    "\n",
    "df = pd.merge(student, demographic, how='inner', on='StudentID')"
   ]
  },
  {
   "cell_type": "code",
   "execution_count": 33,
   "metadata": {},
   "outputs": [
    {
     "data": {
      "text/html": [
       "<div>\n",
       "<style scoped>\n",
       "    .dataframe tbody tr th:only-of-type {\n",
       "        vertical-align: middle;\n",
       "    }\n",
       "\n",
       "    .dataframe tbody tr th {\n",
       "        vertical-align: top;\n",
       "    }\n",
       "\n",
       "    .dataframe thead th {\n",
       "        text-align: right;\n",
       "    }\n",
       "</style>\n",
       "<table border=\"1\" class=\"dataframe\">\n",
       "  <thead>\n",
       "    <tr style=\"text-align: right;\">\n",
       "      <th></th>\n",
       "      <th>StudentID</th>\n",
       "      <th>lunch</th>\n",
       "      <th>test preparation course</th>\n",
       "      <th>math score</th>\n",
       "      <th>gender</th>\n",
       "      <th>race/ethnicity</th>\n",
       "      <th>parental level of education</th>\n",
       "    </tr>\n",
       "  </thead>\n",
       "  <tbody>\n",
       "    <tr>\n",
       "      <th>0</th>\n",
       "      <td>0</td>\n",
       "      <td>standard</td>\n",
       "      <td>none</td>\n",
       "      <td>72</td>\n",
       "      <td>female</td>\n",
       "      <td>group B</td>\n",
       "      <td>bachelor's degree</td>\n",
       "    </tr>\n",
       "    <tr>\n",
       "      <th>1</th>\n",
       "      <td>1</td>\n",
       "      <td>standard</td>\n",
       "      <td>completed</td>\n",
       "      <td>69</td>\n",
       "      <td>female</td>\n",
       "      <td>group C</td>\n",
       "      <td>some college</td>\n",
       "    </tr>\n",
       "    <tr>\n",
       "      <th>2</th>\n",
       "      <td>2</td>\n",
       "      <td>standard</td>\n",
       "      <td>none</td>\n",
       "      <td>90</td>\n",
       "      <td>female</td>\n",
       "      <td>group B</td>\n",
       "      <td>master's degree</td>\n",
       "    </tr>\n",
       "    <tr>\n",
       "      <th>3</th>\n",
       "      <td>3</td>\n",
       "      <td>free/reduced</td>\n",
       "      <td>none</td>\n",
       "      <td>47</td>\n",
       "      <td>male</td>\n",
       "      <td>group A</td>\n",
       "      <td>associate's degree</td>\n",
       "    </tr>\n",
       "    <tr>\n",
       "      <th>4</th>\n",
       "      <td>4</td>\n",
       "      <td>standard</td>\n",
       "      <td>none</td>\n",
       "      <td>76</td>\n",
       "      <td>male</td>\n",
       "      <td>group C</td>\n",
       "      <td>some college</td>\n",
       "    </tr>\n",
       "  </tbody>\n",
       "</table>\n",
       "</div>"
      ],
      "text/plain": [
       "   StudentID         lunch test preparation course  math score  gender  \\\n",
       "0          0      standard                    none          72  female   \n",
       "1          1      standard               completed          69  female   \n",
       "2          2      standard                    none          90  female   \n",
       "3          3  free/reduced                    none          47    male   \n",
       "4          4      standard                    none          76    male   \n",
       "\n",
       "  race/ethnicity parental level of education  \n",
       "0        group B           bachelor's degree  \n",
       "1        group C                some college  \n",
       "2        group B             master's degree  \n",
       "3        group A          associate's degree  \n",
       "4        group C                some college  "
      ]
     },
     "execution_count": 33,
     "metadata": {},
     "output_type": "execute_result"
    }
   ],
   "source": [
    "df.head()"
   ]
  },
  {
   "cell_type": "code",
   "execution_count": 34,
   "metadata": {},
   "outputs": [],
   "source": [
    "df = df.dropna()"
   ]
  },
  {
   "cell_type": "code",
   "execution_count": 35,
   "metadata": {},
   "outputs": [
    {
     "data": {
      "text/html": [
       "<div>\n",
       "<style scoped>\n",
       "    .dataframe tbody tr th:only-of-type {\n",
       "        vertical-align: middle;\n",
       "    }\n",
       "\n",
       "    .dataframe tbody tr th {\n",
       "        vertical-align: top;\n",
       "    }\n",
       "\n",
       "    .dataframe thead th {\n",
       "        text-align: right;\n",
       "    }\n",
       "</style>\n",
       "<table border=\"1\" class=\"dataframe\">\n",
       "  <thead>\n",
       "    <tr style=\"text-align: right;\">\n",
       "      <th></th>\n",
       "      <th>StudentID</th>\n",
       "      <th>lunch</th>\n",
       "      <th>test preparation course</th>\n",
       "      <th>math score</th>\n",
       "      <th>gender</th>\n",
       "      <th>race/ethnicity</th>\n",
       "      <th>parental level of education</th>\n",
       "    </tr>\n",
       "  </thead>\n",
       "  <tbody>\n",
       "    <tr>\n",
       "      <th>0</th>\n",
       "      <td>0</td>\n",
       "      <td>0</td>\n",
       "      <td>0</td>\n",
       "      <td>72</td>\n",
       "      <td>0</td>\n",
       "      <td>group B</td>\n",
       "      <td>bachelor's degree</td>\n",
       "    </tr>\n",
       "    <tr>\n",
       "      <th>1</th>\n",
       "      <td>1</td>\n",
       "      <td>0</td>\n",
       "      <td>1</td>\n",
       "      <td>69</td>\n",
       "      <td>0</td>\n",
       "      <td>group C</td>\n",
       "      <td>some college</td>\n",
       "    </tr>\n",
       "    <tr>\n",
       "      <th>2</th>\n",
       "      <td>2</td>\n",
       "      <td>0</td>\n",
       "      <td>0</td>\n",
       "      <td>90</td>\n",
       "      <td>0</td>\n",
       "      <td>group B</td>\n",
       "      <td>master's degree</td>\n",
       "    </tr>\n",
       "    <tr>\n",
       "      <th>3</th>\n",
       "      <td>3</td>\n",
       "      <td>1</td>\n",
       "      <td>0</td>\n",
       "      <td>47</td>\n",
       "      <td>1</td>\n",
       "      <td>group A</td>\n",
       "      <td>associate's degree</td>\n",
       "    </tr>\n",
       "    <tr>\n",
       "      <th>4</th>\n",
       "      <td>4</td>\n",
       "      <td>0</td>\n",
       "      <td>0</td>\n",
       "      <td>76</td>\n",
       "      <td>1</td>\n",
       "      <td>group C</td>\n",
       "      <td>some college</td>\n",
       "    </tr>\n",
       "  </tbody>\n",
       "</table>\n",
       "</div>"
      ],
      "text/plain": [
       "   StudentID  lunch  test preparation course  math score  gender  \\\n",
       "0          0      0                        0          72       0   \n",
       "1          1      0                        1          69       0   \n",
       "2          2      0                        0          90       0   \n",
       "3          3      1                        0          47       1   \n",
       "4          4      0                        0          76       1   \n",
       "\n",
       "  race/ethnicity parental level of education  \n",
       "0        group B           bachelor's degree  \n",
       "1        group C                some college  \n",
       "2        group B             master's degree  \n",
       "3        group A          associate's degree  \n",
       "4        group C                some college  "
      ]
     },
     "execution_count": 35,
     "metadata": {},
     "output_type": "execute_result"
    }
   ],
   "source": [
    "dictmap = {'standard':0, 'free/reduced':1}\n",
    "df['lunch'] = df['lunch'].map(dictmap)\n",
    "\n",
    "dictmap = {'none':0, 'completed':1}\n",
    "df['test preparation course'] = df['test preparation course'].map(dictmap)\n",
    "\n",
    "dictmap = {'female':0, 'male':1}\n",
    "df['gender'] = df['gender'].map(dictmap)\n",
    "\n",
    "df.head()\n"
   ]
  },
  {
   "cell_type": "markdown",
   "metadata": {},
   "source": [
    "## Het model bouwen\n",
    "\n",
    "1. We gaan een model bouwen op basis van de math score. Dit wordt dus onze y. 'ID' hebben we niet meer nodig. Die kunnen we ook droppen.\n",
    "2. We splitsen de dataset in een training- en een testset."
   ]
  },
  {
   "cell_type": "code",
   "execution_count": 36,
   "metadata": {},
   "outputs": [],
   "source": [
    "X = student.drop(['StudentID','math score'], axis=1)\n",
    "y = student['math score']"
   ]
  },
  {
   "cell_type": "code",
   "execution_count": 37,
   "metadata": {},
   "outputs": [],
   "source": [
    "from sklearn.model_selection import train_test_split\n",
    "X_train,X_test,y_train,y_test = train_test_split(X,y,random_state=42)"
   ]
  },
  {
   "cell_type": "code",
   "execution_count": 38,
   "metadata": {},
   "outputs": [
    {
     "name": "stdout",
     "output_type": "stream",
     "text": [
      "750\n",
      "250\n",
      "750\n",
      "250\n"
     ]
    }
   ],
   "source": [
    "print(len(X_train))\n",
    "print(len(X_test))\n",
    "print(len(y_train))\n",
    "print(len(y_test))"
   ]
  },
  {
   "cell_type": "code",
   "execution_count": 39,
   "metadata": {},
   "outputs": [],
   "source": [
    "numerical_ix = X.select_dtypes(include=['int32','int64','float64']).columns\n",
    "tekst_ix = X.select_dtypes(include=['object', 'string']).columns"
   ]
  },
  {
   "cell_type": "markdown",
   "metadata": {},
   "source": [
    "## Pipeline maken\n",
    "\n",
    "1. We gaan eerst kijken om de categoriëen aan te passen met een OneHotEncoder. Hierbij moeten we wel opletten dat we remainder='passthrough' bij de columntransformer noteren. Dit zorgt er voor dat de kolommen, die niet in de lijst van transformers staan, gewoon worden doorgegeven in plaats van weggeworpen te worden. Als we deze kolommen toch niet nodig hebben mogen we dit weg laten.\n",
    "\n",
    "2. We gaan een dictionary van regressors maken. We houden twee modellen bij: een SVM Regressiemodel en een SVM Regressiemodel met een tweedegraads polynomiale kernel. De bedoeling is dat we zometeen over deze dictionary gaan itereren.\n",
    "\n",
    "3. We itereren over deze dictionary. Een item in de dictionary vragen we op met .items(). Voor iedere regressor gaan we een Pipeline opbouwen met daarin de columntransformer en de regressor die op dat moment aan bod komt. \n",
    "\n",
    "3. We trainen dat model met de fit-functie.\n",
    "\n",
    "4. We berekenen de MAE voor ieder model. Deze printen we uit."
   ]
  },
  {
   "cell_type": "code",
   "execution_count": 40,
   "metadata": {},
   "outputs": [],
   "source": [
    "from sklearn.pipeline import Pipeline\n",
    "\n",
    "# Passthrough --> de resterende kolommen ongewijzigd laten.\n",
    "col_transform = ColumnTransformer(transformers=[('cat', OneHotEncoder(), tekst_ix)], remainder='passthrough')"
   ]
  },
  {
   "cell_type": "code",
   "execution_count": 41,
   "metadata": {},
   "outputs": [],
   "source": [
    "from sklearn.svm import LinearSVR\n",
    "from sklearn.svm import SVR\n",
    "\n",
    "regressors = {\n",
    "    # voor lineaire SVM regressie\n",
    "    \"svm_reg\": LinearSVR(epsilon=1.5, random_state=42),\n",
    "    \n",
    "    # voor de polynomiale kernel\n",
    "    \"svm_poly_reg\": SVR(kernel='poly', degree=2, C=100, epsilon=0.1, gamma='scale')\n",
    "}"
   ]
  },
  {
   "cell_type": "code",
   "execution_count": 42,
   "metadata": {},
   "outputs": [
    {
     "name": "stdout",
     "output_type": "stream",
     "text": [
      "svm_reg --> mae = 11.160368041638351\n",
      "svm_poly_reg --> mae = 11.135460334449169\n"
     ]
    }
   ],
   "source": [
    "for key, regressor in regressors.items():\n",
    "    pipeline = Pipeline([\n",
    "        ('prep',col_transform),\n",
    "        (key, regressor)\n",
    "    ])\n",
    "\n",
    "    pipeline.fit(X_train, y_train)\n",
    "\n",
    "    mae = np.mean(cross_val_score(pipeline, X_train, y_train, scoring='neg_mean_absolute_error', cv=3))\n",
    "    print(f'{key} --> mae = {-mae}')"
   ]
  },
  {
   "cell_type": "markdown",
   "metadata": {},
   "source": [
    "## Gridsearch voor een lineair model."
   ]
  },
  {
   "cell_type": "code",
   "execution_count": 43,
   "metadata": {},
   "outputs": [
    {
     "name": "stdout",
     "output_type": "stream",
     "text": [
      "best estimator = LinearSVR(epsilon=2.5, random_state=42)\n",
      "best score = -11.106819596291984\n"
     ]
    },
    {
     "name": "stderr",
     "output_type": "stream",
     "text": [
      "C:\\Users\\dylan\\AppData\\Local\\Packages\\PythonSoftwareFoundation.Python.3.9_qbz5n2kfra8p0\\LocalCache\\local-packages\\Python39\\site-packages\\sklearn\\svm\\_base.py:1206: ConvergenceWarning: Liblinear failed to converge, increase the number of iterations.\n",
      "  warnings.warn(\n",
      "C:\\Users\\dylan\\AppData\\Local\\Packages\\PythonSoftwareFoundation.Python.3.9_qbz5n2kfra8p0\\LocalCache\\local-packages\\Python39\\site-packages\\sklearn\\svm\\_base.py:1206: ConvergenceWarning: Liblinear failed to converge, increase the number of iterations.\n",
      "  warnings.warn(\n",
      "C:\\Users\\dylan\\AppData\\Local\\Packages\\PythonSoftwareFoundation.Python.3.9_qbz5n2kfra8p0\\LocalCache\\local-packages\\Python39\\site-packages\\sklearn\\svm\\_base.py:1206: ConvergenceWarning: Liblinear failed to converge, increase the number of iterations.\n",
      "  warnings.warn(\n",
      "C:\\Users\\dylan\\AppData\\Local\\Packages\\PythonSoftwareFoundation.Python.3.9_qbz5n2kfra8p0\\LocalCache\\local-packages\\Python39\\site-packages\\sklearn\\svm\\_base.py:1206: ConvergenceWarning: Liblinear failed to converge, increase the number of iterations.\n",
      "  warnings.warn(\n"
     ]
    }
   ],
   "source": [
    "from sklearn.model_selection import GridSearchCV\n",
    "\n",
    "svr_params = {\n",
    "    'epsilon': [0.1, 0.5, 1.0, 1.5, 2.0, 2.5, 3.0, 3.5]\n",
    "    }\n",
    "\n",
    "grid_svc = GridSearchCV(LinearSVR(random_state=42), svr_params, scoring='neg_mean_absolute_error', cv=3)\n",
    "\n",
    "pipeline = Pipeline([\n",
    "    ('prep',col_transform),\n",
    "    ('grid_svc', grid_svc)\n",
    "    ])\n",
    "pipeline.fit(X_train, y_train)\n",
    "\n",
    "# best estimator\n",
    "print(f\"best estimator = {grid_svc.best_estimator_}\")\n",
    "# best score\n",
    "print(f\"best score = {grid_svc.best_score_}\")"
   ]
  },
  {
   "cell_type": "markdown",
   "metadata": {},
   "source": [
    "## Grid-search met niet-lineaire regressie"
   ]
  },
  {
   "cell_type": "code",
   "execution_count": 29,
   "metadata": {},
   "outputs": [
    {
     "name": "stdout",
     "output_type": "stream",
     "text": [
      "best estimator = SVR(degree=1, epsilon=3.0, kernel='poly')\n",
      "best score = -11.065337239583334\n"
     ]
    }
   ],
   "source": [
    "svr_params = {'epsilon': [0.1, 0.5, 1.0, 1.5, 2.0, 2.5, 3.0, 3.5], \"kernel\": [\"rbf\", \"poly\", \"sigmoid\", \"linear\"], \"degree\": [1, 2, 3]}\n",
    "\n",
    "grid_svc = GridSearchCV(SVR(), svr_params, scoring='neg_mean_absolute_error', cv=3)\n",
    "pipeline = Pipeline([('prep',col_transform), ('grid_svc', grid_svc)])\n",
    "pipeline.fit(X_train, y_train)\n",
    "\n",
    "# best estimator\n",
    "print(f\"best estimator = {grid_svc.best_estimator_}\")\n",
    "# best score\n",
    "print(f\"best score = {grid_svc.best_score_}\")"
   ]
  }
 ],
 "metadata": {
  "kernelspec": {
   "display_name": "Python 3.9.13 64-bit (windows store)",
   "language": "python",
   "name": "python3"
  },
  "language_info": {
   "codemirror_mode": {
    "name": "ipython",
    "version": 3
   },
   "file_extension": ".py",
   "mimetype": "text/x-python",
   "name": "python",
   "nbconvert_exporter": "python",
   "pygments_lexer": "ipython3",
   "version": "3.9.13"
  },
  "orig_nbformat": 4,
  "vscode": {
   "interpreter": {
    "hash": "461b8cd1ed42f26c365b05a87642eedf7a94d4e578d07d12c4b9e9e926e3307d"
   }
  }
 },
 "nbformat": 4,
 "nbformat_minor": 2
}
